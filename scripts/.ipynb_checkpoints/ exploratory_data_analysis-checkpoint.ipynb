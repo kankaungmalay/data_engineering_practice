{
 "cells": [
  {
   "cell_type": "code",
   "execution_count": 10,
   "id": "aab66e20",
   "metadata": {},
   "outputs": [],
   "source": [
    "# import packages\n",
    "import pandas as pd\n",
    "import numpy as np\n",
    "import seaborn as sns"
   ]
  },
  {
   "cell_type": "code",
   "execution_count": 11,
   "id": "30eab9bb",
   "metadata": {},
   "outputs": [
    {
     "data": {
      "text/plain": [
       "((65735, 23), (39503, 23))"
      ]
     },
     "execution_count": 11,
     "metadata": {},
     "output_type": "execute_result"
    }
   ],
   "source": [
    "# data load\n",
    "df_2021 = pd.read_csv(\"../datasets/2021.csv\", sep=';')\n",
    "df_2022 = pd.read_csv(\"../datasets/2022.csv\", sep=';')\n",
    "\n",
    "df_2021.shape, df_2022.shape"
   ]
  },
  {
   "cell_type": "code",
   "execution_count": 12,
   "id": "35df6c62",
   "metadata": {},
   "outputs": [
    {
     "data": {
      "text/plain": [
       "(105238, 23)"
      ]
     },
     "execution_count": 12,
     "metadata": {},
     "output_type": "execute_result"
    }
   ],
   "source": [
    "# concat the two datasets into one\n",
    "df = pd.concat([df_2021, df_2022]).reset_index(drop=True)\n",
    "df.shape"
   ]
  },
  {
   "cell_type": "code",
   "execution_count": 13,
   "id": "020bca43",
   "metadata": {},
   "outputs": [
    {
     "data": {
      "text/html": [
       "<div>\n",
       "<style scoped>\n",
       "    .dataframe tbody tr th:only-of-type {\n",
       "        vertical-align: middle;\n",
       "    }\n",
       "\n",
       "    .dataframe tbody tr th {\n",
       "        vertical-align: top;\n",
       "    }\n",
       "\n",
       "    .dataframe thead th {\n",
       "        text-align: right;\n",
       "    }\n",
       "</style>\n",
       "<table border=\"1\" class=\"dataframe\">\n",
       "  <thead>\n",
       "    <tr style=\"text-align: right;\">\n",
       "      <th></th>\n",
       "      <th>Date Time</th>\n",
       "      <th>NOx</th>\n",
       "      <th>NO2</th>\n",
       "      <th>NO</th>\n",
       "      <th>SiteID</th>\n",
       "      <th>PM10</th>\n",
       "      <th>NVPM10</th>\n",
       "      <th>VPM10</th>\n",
       "      <th>NVPM2.5</th>\n",
       "      <th>PM2.5</th>\n",
       "      <th>...</th>\n",
       "      <th>SO2</th>\n",
       "      <th>Temperature</th>\n",
       "      <th>RH</th>\n",
       "      <th>Air Pressure</th>\n",
       "      <th>Location</th>\n",
       "      <th>geo_point_2d</th>\n",
       "      <th>DateStart</th>\n",
       "      <th>DateEnd</th>\n",
       "      <th>Current</th>\n",
       "      <th>Instrument Type</th>\n",
       "    </tr>\n",
       "  </thead>\n",
       "  <tbody>\n",
       "    <tr>\n",
       "      <th>0</th>\n",
       "      <td>2021-12-02T13:00:00+00:00</td>\n",
       "      <td>224.50</td>\n",
       "      <td>81.25</td>\n",
       "      <td>93.25</td>\n",
       "      <td>501</td>\n",
       "      <td>NaN</td>\n",
       "      <td>NaN</td>\n",
       "      <td>NaN</td>\n",
       "      <td>NaN</td>\n",
       "      <td>NaN</td>\n",
       "      <td>...</td>\n",
       "      <td>NaN</td>\n",
       "      <td>NaN</td>\n",
       "      <td>NaN</td>\n",
       "      <td>NaN</td>\n",
       "      <td>Colston Avenue</td>\n",
       "      <td>51.455269382758324,-2.596648828557916</td>\n",
       "      <td>2018-11-30T00:00:00+00:00</td>\n",
       "      <td>NaN</td>\n",
       "      <td>True</td>\n",
       "      <td>Continuous (Reference)</td>\n",
       "    </tr>\n",
       "    <tr>\n",
       "      <th>1</th>\n",
       "      <td>2021-12-02T15:00:00+00:00</td>\n",
       "      <td>224.50</td>\n",
       "      <td>98.25</td>\n",
       "      <td>82.75</td>\n",
       "      <td>501</td>\n",
       "      <td>NaN</td>\n",
       "      <td>NaN</td>\n",
       "      <td>NaN</td>\n",
       "      <td>NaN</td>\n",
       "      <td>NaN</td>\n",
       "      <td>...</td>\n",
       "      <td>NaN</td>\n",
       "      <td>NaN</td>\n",
       "      <td>NaN</td>\n",
       "      <td>NaN</td>\n",
       "      <td>Colston Avenue</td>\n",
       "      <td>51.455269382758324,-2.596648828557916</td>\n",
       "      <td>2018-11-30T00:00:00+00:00</td>\n",
       "      <td>NaN</td>\n",
       "      <td>True</td>\n",
       "      <td>Continuous (Reference)</td>\n",
       "    </tr>\n",
       "    <tr>\n",
       "      <th>2</th>\n",
       "      <td>2021-12-02T16:00:00+00:00</td>\n",
       "      <td>211.25</td>\n",
       "      <td>79.75</td>\n",
       "      <td>85.75</td>\n",
       "      <td>501</td>\n",
       "      <td>NaN</td>\n",
       "      <td>NaN</td>\n",
       "      <td>NaN</td>\n",
       "      <td>NaN</td>\n",
       "      <td>NaN</td>\n",
       "      <td>...</td>\n",
       "      <td>NaN</td>\n",
       "      <td>NaN</td>\n",
       "      <td>NaN</td>\n",
       "      <td>NaN</td>\n",
       "      <td>Colston Avenue</td>\n",
       "      <td>51.455269382758324,-2.596648828557916</td>\n",
       "      <td>2018-11-30T00:00:00+00:00</td>\n",
       "      <td>NaN</td>\n",
       "      <td>True</td>\n",
       "      <td>Continuous (Reference)</td>\n",
       "    </tr>\n",
       "    <tr>\n",
       "      <th>3</th>\n",
       "      <td>2021-12-03T03:00:00+00:00</td>\n",
       "      <td>39.25</td>\n",
       "      <td>21.75</td>\n",
       "      <td>11.50</td>\n",
       "      <td>501</td>\n",
       "      <td>NaN</td>\n",
       "      <td>NaN</td>\n",
       "      <td>NaN</td>\n",
       "      <td>NaN</td>\n",
       "      <td>NaN</td>\n",
       "      <td>...</td>\n",
       "      <td>NaN</td>\n",
       "      <td>NaN</td>\n",
       "      <td>NaN</td>\n",
       "      <td>NaN</td>\n",
       "      <td>Colston Avenue</td>\n",
       "      <td>51.455269382758324,-2.596648828557916</td>\n",
       "      <td>2018-11-30T00:00:00+00:00</td>\n",
       "      <td>NaN</td>\n",
       "      <td>True</td>\n",
       "      <td>Continuous (Reference)</td>\n",
       "    </tr>\n",
       "    <tr>\n",
       "      <th>4</th>\n",
       "      <td>2021-12-03T15:00:00+00:00</td>\n",
       "      <td>517.50</td>\n",
       "      <td>138.50</td>\n",
       "      <td>247.25</td>\n",
       "      <td>501</td>\n",
       "      <td>NaN</td>\n",
       "      <td>NaN</td>\n",
       "      <td>NaN</td>\n",
       "      <td>NaN</td>\n",
       "      <td>NaN</td>\n",
       "      <td>...</td>\n",
       "      <td>NaN</td>\n",
       "      <td>NaN</td>\n",
       "      <td>NaN</td>\n",
       "      <td>NaN</td>\n",
       "      <td>Colston Avenue</td>\n",
       "      <td>51.455269382758324,-2.596648828557916</td>\n",
       "      <td>2018-11-30T00:00:00+00:00</td>\n",
       "      <td>NaN</td>\n",
       "      <td>True</td>\n",
       "      <td>Continuous (Reference)</td>\n",
       "    </tr>\n",
       "  </tbody>\n",
       "</table>\n",
       "<p>5 rows × 23 columns</p>\n",
       "</div>"
      ],
      "text/plain": [
       "                   Date Time     NOx     NO2      NO  SiteID  PM10  NVPM10  \\\n",
       "0  2021-12-02T13:00:00+00:00  224.50   81.25   93.25     501   NaN     NaN   \n",
       "1  2021-12-02T15:00:00+00:00  224.50   98.25   82.75     501   NaN     NaN   \n",
       "2  2021-12-02T16:00:00+00:00  211.25   79.75   85.75     501   NaN     NaN   \n",
       "3  2021-12-03T03:00:00+00:00   39.25   21.75   11.50     501   NaN     NaN   \n",
       "4  2021-12-03T15:00:00+00:00  517.50  138.50  247.25     501   NaN     NaN   \n",
       "\n",
       "   VPM10  NVPM2.5  PM2.5  ...  SO2  Temperature  RH  Air Pressure  \\\n",
       "0    NaN      NaN    NaN  ...  NaN          NaN NaN           NaN   \n",
       "1    NaN      NaN    NaN  ...  NaN          NaN NaN           NaN   \n",
       "2    NaN      NaN    NaN  ...  NaN          NaN NaN           NaN   \n",
       "3    NaN      NaN    NaN  ...  NaN          NaN NaN           NaN   \n",
       "4    NaN      NaN    NaN  ...  NaN          NaN NaN           NaN   \n",
       "\n",
       "         Location                           geo_point_2d  \\\n",
       "0  Colston Avenue  51.455269382758324,-2.596648828557916   \n",
       "1  Colston Avenue  51.455269382758324,-2.596648828557916   \n",
       "2  Colston Avenue  51.455269382758324,-2.596648828557916   \n",
       "3  Colston Avenue  51.455269382758324,-2.596648828557916   \n",
       "4  Colston Avenue  51.455269382758324,-2.596648828557916   \n",
       "\n",
       "                   DateStart DateEnd Current         Instrument Type  \n",
       "0  2018-11-30T00:00:00+00:00     NaN    True  Continuous (Reference)  \n",
       "1  2018-11-30T00:00:00+00:00     NaN    True  Continuous (Reference)  \n",
       "2  2018-11-30T00:00:00+00:00     NaN    True  Continuous (Reference)  \n",
       "3  2018-11-30T00:00:00+00:00     NaN    True  Continuous (Reference)  \n",
       "4  2018-11-30T00:00:00+00:00     NaN    True  Continuous (Reference)  \n",
       "\n",
       "[5 rows x 23 columns]"
      ]
     },
     "execution_count": 13,
     "metadata": {},
     "output_type": "execute_result"
    }
   ],
   "source": [
    "df.head(5)"
   ]
  },
  {
   "cell_type": "code",
   "execution_count": 14,
   "id": "a788d229",
   "metadata": {},
   "outputs": [
    {
     "data": {
      "text/plain": [
       "(Timestamp('2021-01-01 00:00:00+0000', tz='UTC'),\n",
       " Timestamp('2022-07-27 09:00:00+0000', tz='UTC'))"
      ]
     },
     "execution_count": 14,
     "metadata": {},
     "output_type": "execute_result"
    }
   ],
   "source": [
    "# checking start and end dates of concated dataset\n",
    "raw_datetime =  pd.to_datetime(df['Date Time'], infer_datetime_format=True)\n",
    "\n",
    "raw_datetime.min(), raw_datetime.max()"
   ]
  },
  {
   "cell_type": "code",
   "execution_count": 19,
   "id": "e29f2c3f",
   "metadata": {},
   "outputs": [
    {
     "data": {
      "text/plain": [
       "<AxesSubplot:>"
      ]
     },
     "execution_count": 19,
     "metadata": {},
     "output_type": "execute_result"
    },
    {
     "data": {
      "image/png": "[encoded data removed]",
      "text/plain": [
       "<Figure size 432x288 with 2 Axes>"
      ]
     },
     "metadata": {
      "needs_background": "light"
     },
     "output_type": "display_data"
    }
   ],
   "source": [
    "# check missing values\n",
    "cols = df.columns[:20] # first 30 columns\n",
    "colours = ['#000099', '#ffff00'] # specify the colours - yellow is missing. blue is not missing.\n",
    "sns.heatmap(df[cols].isnull(), cmap=sns.color_palette(colours))"
   ]
  },
  {
   "cell_type": "code",
   "execution_count": 16,
   "id": "d8b9bdb1",
   "metadata": {},
   "outputs": [],
   "source": [
    "# save filtered data to csv\n",
    "df.to_csv(\"../datasets/concated_dataset.csv\", index= False)"
   ]
  },
  {
   "cell_type": "code",
   "execution_count": null,
   "id": "dcace642",
   "metadata": {},
   "outputs": [],
   "source": []
  }
 ],
 "metadata": {
  "kernelspec": {
   "display_name": "Python 3 (ipykernel)",
   "language": "python",
   "name": "python3"
  },
  "language_info": {
   "codemirror_mode": {
    "name": "ipython",
    "version": 3
   },
   "file_extension": ".py",
   "mimetype": "text/x-python",
   "name": "python",
   "nbconvert_exporter": "python",
   "pygments_lexer": "ipython3",
   "version": "3.9.7"
  }
 },
 "nbformat": 4,
 "nbformat_minor": 5
}
