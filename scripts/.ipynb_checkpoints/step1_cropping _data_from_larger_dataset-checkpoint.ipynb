{
 "cells": [
  {
   "cell_type": "code",
   "execution_count": 1,
   "id": "376b260d",
   "metadata": {},
   "outputs": [],
   "source": [
    "import csv\n",
    "from datetime import datetime"
   ]
  },
  {
   "cell_type": "code",
   "execution_count": 2,
   "id": "598283fa",
   "metadata": {},
   "outputs": [],
   "source": [
    "class Crop:\n",
    "    \"\"\"\n",
    "    This class is to crop the data by filtered_data.\n",
    "    \"\"\"\n",
    "    def __init__(self, filtered_date, origin_csv, cropped_csv):\n",
    "        \"\"\"\n",
    "        :param filtered_date: the filtered date\n",
    "        :param origin_csv: the original csv file name\n",
    "        :param cropped_csv: the cropped csv file name\n",
    "        \"\"\"\n",
    "        self.filtered_date = filtered_date\n",
    "\n",
    "        self.cropped_csv = cropped_csv\n",
    "\n",
    "        self.ori_csv = origin_csv\n",
    "\n",
    "        self.filter_timestamp = datetime.strptime(self.filtered_date, \"%Y-%m-%dT%H:%M:%S%z\").timestamp()\n",
    "\n",
    "    def cropping(self):\n",
    "        \"\"\"\n",
    "        Cropping the data by filtered_date\n",
    "        :return:\n",
    "        \"\"\"\n",
    "        # variable declaration and initialization\n",
    "        i = 1\n",
    "        j = 0\n",
    "        \n",
    "        # read the data from the original file and write it to crop.csv file\n",
    "        with open(self.ori_csv, \"r\") as origin, open(self.cropped_csv, \"w\") as cropped:\n",
    "            for line in origin:\n",
    "                if i == 1:\n",
    "                    cropped.write(line)  # header line\n",
    "                    j += 1\n",
    "                else:\n",
    "                    split_row = line.split(\";\")\n",
    "                    # 0 index of the list is DateTime column, so get it ..\n",
    "                    datetime_str = split_row[0]\n",
    "\n",
    "                    if datetime_str:\n",
    "                        # change datetime string to timestamp\n",
    "                        datetime_in_row = datetime.strptime(datetime_str, \"%Y-%m-%dT%H:%M:%S%z\").timestamp()\n",
    "                        # check the datetime(timestamp) in each row >= the filtered datetime\n",
    "                        if int(datetime_in_row) >= int(self.filter_timestamp):\n",
    "                            # writing the data to file\n",
    "                            cropped.write(line)\n",
    "                            j += 1\n",
    "                i += 1\n",
    "        print('Total number of cropped record(s) :' + str(j))"
   ]
  },
  {
   "cell_type": "code",
   "execution_count": 3,
   "id": "15e1990e",
   "metadata": {},
   "outputs": [
    {
     "name": "stdout",
     "output_type": "stream",
     "text": [
      "Error message: can only concatenate str (not \"int\") to str\n",
      "Total execution time taken(seconds): 0:00:01.041110\n"
     ]
    }
   ],
   "source": [
    "start_time = datetime.now()\n",
    "try:\n",
    "    # Constant data\n",
    "    filtered_date = \"2022-01-01T00:00:00+00:00\"\n",
    "\n",
    "    origin_csv = \"../datasets/2022.csv\"\n",
    "    cropped_csv = \"cropped_records_with_filtered_date.csv\"\n",
    "\n",
    "    # cropping the data by filtered_date\n",
    "    obj_crop = Crop(filtered_date, origin_csv, cropped_csv)\n",
    "    obj_crop.cropping()\n",
    "\n",
    "except BaseException as error:\n",
    "    print(f\"Error message: {error}\")\n",
    "\n",
    "print('Total execution time taken(seconds): ' + str(datetime.now() - start_time))"
   ]
  },
  {
   "cell_type": "code",
   "execution_count": null,
   "id": "e5000bf9",
   "metadata": {},
   "outputs": [],
   "source": []
  }
 ],
 "metadata": {
  "kernelspec": {
   "display_name": "Python 3 (ipykernel)",
   "language": "python",
   "name": "python3"
  },
  "language_info": {
   "codemirror_mode": {
    "name": "ipython",
    "version": 3
   },
   "file_extension": ".py",
   "mimetype": "text/x-python",
   "name": "python",
   "nbconvert_exporter": "python",
   "pygments_lexer": "ipython3",
   "version": "3.9.7"
  }
 },
 "nbformat": 4,
 "nbformat_minor": 5
}
