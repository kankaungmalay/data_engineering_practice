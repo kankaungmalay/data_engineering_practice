{
 "cells": [
  {
   "cell_type": "markdown",
   "id": "3a598a36",
   "metadata": {},
   "source": [
    "* Install xampp and launch it.\n",
    "* Check if both web(eg; Apache) and database(eg; MySQL or MariaDB) servers are running properly \n",
    "* Then run the following code chunks .."
   ]
  },
  {
   "cell_type": "code",
   "execution_count": 2,
   "id": "a540a0de",
   "metadata": {},
   "outputs": [],
   "source": [
    "import mariadb\n",
    "import csv\n",
    "import datetime"
   ]
  },
  {
   "cell_type": "code",
   "execution_count": 3,
   "id": "5165e71e",
   "metadata": {},
   "outputs": [
    {
     "name": "stdout",
     "output_type": "stream",
     "text": [
      "Total execution time taken(seconds): 0:00:00.023877\n"
     ]
    }
   ],
   "source": [
    "start_time = datetime.datetime.now()\n",
    "\n",
    "try:\n",
    "    # set the username and passoword, then connect to mariaDB\n",
    "    db_conn = mariadb.connect(\n",
    "        user=\"root\",\n",
    "        password=\"\",\n",
    "        host=\"127.0.0.1\",     # or localhost\n",
    "        port=3306             # can be other port number\n",
    "    )\n",
    "\n",
    "    # make and get the cursor\n",
    "    cur = db_conn.cursor()\n",
    "\n",
    "    cur.execute(\"DROP DATABASE IF EXISTS `air_quality_db`\")\n",
    "    # create a new database\n",
    "    cur.execute(\"CREATE DATABASE `air_quality_db`\")\n",
    "\n",
    "    # get a database handle\n",
    "    cur.execute(\"USE `air_quality_db`\")\n",
    "    \n",
    "    # read data from CSV files\n",
    "    schema_rows = [] # empty list to hold records\n",
    "    # open the csv file and read records, and then add each lines to an iterator\n",
    "    with open('../datasets/schema.csv', 'r', encoding='UTF-8') as csvfile:\n",
    "        s_reader = csv.reader(csvfile, delimiter=';')\n",
    "        for row in s_reader:\n",
    "            schema_rows.append(row)\n",
    "    # get rid of the header row\n",
    "    schema_rows.pop(0)\n",
    "    \n",
    "    # empty list to hold records\n",
    "    reading_rows = []\n",
    "    # open the csv file and read records, and then add each lines to an iterator\n",
    "    with open('cleaned_data.csv', 'r', encoding='UTF-8') as csvfile:\n",
    "        reader = csv.reader(csvfile, delimiter=';')\n",
    "        for row in reader:\n",
    "            reading_rows.append(row)\n",
    "    # get rid of the header row\n",
    "    reading_rows.pop(0)\n",
    "    \n",
    "    \n",
    "    ### to be updated ###\n",
    "    # create tables\n",
    "    # insert data to the created tables\n",
    "    \n",
    "    \n",
    "    db_conn.commit()\n",
    "    db_conn.close()\n",
    "\n",
    "except BaseException as error:\n",
    "    print(f\"Error message: {error}\")\n",
    "\n",
    "print('Total execution time taken(seconds): ' + str(datetime.datetime.now() - start_time))\n"
   ]
  },
  {
   "cell_type": "code",
   "execution_count": null,
   "id": "fcc43dff",
   "metadata": {},
   "outputs": [],
   "source": []
  }
 ],
 "metadata": {
  "kernelspec": {
   "display_name": "Python 3 (ipykernel)",
   "language": "python",
   "name": "python3"
  },
  "language_info": {
   "codemirror_mode": {
    "name": "ipython",
    "version": 3
   },
   "file_extension": ".py",
   "mimetype": "text/x-python",
   "name": "python",
   "nbconvert_exporter": "python",
   "pygments_lexer": "ipython3",
   "version": "3.9.7"
  }
 },
 "nbformat": 4,
 "nbformat_minor": 5
}
